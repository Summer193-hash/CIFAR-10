{
 "cells": [
  {
   "cell_type": "code",
   "execution_count": 141,
   "id": "fb706c76-5f9b-4787-b6ba-ea3dd84bb83e",
   "metadata": {},
   "outputs": [],
   "source": [
    "import tensorflow as tf\n",
    "import numpy as np\n",
    "from tensorflow.keras import datasets, layers, models\n",
    "import matplotlib.pyplot as plt\n",
    "from tensorflow.keras.preprocessing.image import ImageDataGenerator\n",
    "from PIL import Image  "
   ]
  },
  {
   "cell_type": "code",
   "execution_count": 17,
   "id": "01e5f2ed-605a-4078-9a51-2005de58c88f",
   "metadata": {},
   "outputs": [],
   "source": [
    "def load_data():\n",
    "    \"\"\"\n",
    "    For Loading and preprocessing the CIFAR-10 dataset.\n",
    "    proprocessing includes normalizing the pixel values of images and one-hot encoding of the labels.\n",
    "    Returns: training_images, training_labels, test_images, test_labels\n",
    "    \"\"\"\n",
    "    # Loading the cifar-10 dataset\n",
    "    (training_images, training_labels), (test_images, test_labels) = datasets.cifar10.load_data()\n",
    "\n",
    "    # normalizing pixel values (between [0, 1])\n",
    "    training_images, test_images = training_images / 255.0, test_images / 255.0\n",
    "\n",
    "    # One-hot encoding the labels\n",
    "    training_labels = tf.keras.utils.to_categorical(training_labels, 10)\n",
    "    test_labels = tf.keras.utils.to_categorical(test_labels, 10)\n",
    "\n",
    "    return (training_images, training_labels), (test_images, test_labels)"
   ]
  },
  {
   "cell_type": "code",
   "execution_count": 112,
   "id": "921ef4bd-14d1-4250-ab8b-e3eb4e651b48",
   "metadata": {},
   "outputs": [],
   "source": [
    "def build_model():\n",
    "    \"\"\"\n",
    "    For Building a CNN model for cifar-10.\n",
    "    \"\"\"\n",
    "    model = models.Sequential([\n",
    "        layers.Conv2D(32, (3, 3), activation='relu', input_shape=(32, 32, 3)),\n",
    "        layers.Conv2D(64, (3, 3), activation='relu'),\n",
    "        layers.MaxPooling2D((2, 2)),\n",
    "        \n",
    "        layers.Conv2D(128, (3, 3), activation='relu'),\n",
    "        layers.MaxPooling2D((2, 2)),\n",
    "        layers.Conv2D(256, (3, 3), activation='relu'),\n",
    "        layers.MaxPooling2D((2, 2)),\n",
    "\n",
    "        layers.Flatten(),\n",
    "        layers.Dense(128, activation='relu'),\n",
    "        layers.Dropout(0.5),\n",
    "        layers.Dense(10, activation='softmax')\n",
    "    ])\n",
    "\n",
    "    # Compiling the model\n",
    "    model.compile(optimizer='adam',\n",
    "                  loss='categorical_crossentropy',\n",
    "                  metrics=['accuracy'])\n",
    "\n",
    "    return model"
   ]
  },
  {
   "cell_type": "code",
   "execution_count": 113,
   "id": "13d78940-0882-4b2f-9569-ab5d9d953142",
   "metadata": {},
   "outputs": [],
   "source": [
    "def image_augmenter():\n",
    "    \"\"\"\n",
    "    Image data augmenter\n",
    "    Returns: datagen, which is the ImageDataGenerator object.\n",
    "    \"\"\"\n",
    "    datagen = ImageDataGenerator(\n",
    "        rotation_range=20,       # Randomly rotate images by 15 degrees\n",
    "        width_shift_range=0.1,  # Randomly shift images horizontally by 10%\n",
    "        height_shift_range=0.1, # Randomly shift images vertically by 10%\n",
    "        horizontal_flip=True,   # Randomly flip images horizontally\n",
    "    )\n",
    "    return datagen"
   ]
  },
  {
   "cell_type": "code",
   "execution_count": 114,
   "id": "3c9376e5-706d-4e73-b22b-124bf48c9d48",
   "metadata": {},
   "outputs": [],
   "source": [
    "def train_model(model, training_images, training_labels, test_images, test_labels, epochs=50):\n",
    "    \"\"\"\n",
    "    For Training the model and plot training history.\n",
    "    Args:\n",
    "        model: The compiled model defined before.\n",
    "        training_images, training_labels: Training data.\n",
    "        test_images, test_labels: Validation data.\n",
    "        epochs: Number of epochs to train.\n",
    "        batch_size: Batch size for training.\n",
    "    Returns:\n",
    "        history\n",
    "    \"\"\"\n",
    "    #Creating an image augmenter\n",
    "    datagen = image_augmenter()\n",
    "    \n",
    "    # Training the model\n",
    "    history = model.fit(datagen.flow(training_images, training_labels), epochs=epochs,\n",
    "                        steps_per_epoch= (X_train.shape[0] // 64), validation_data= (test_images, test_labels))\n",
    "\n",
    "    return history"
   ]
  },
  {
   "cell_type": "code",
   "execution_count": 115,
   "id": "831293e3-afc5-4199-8837-899022d84113",
   "metadata": {},
   "outputs": [],
   "source": [
    "def evaluate_model(model, test_images, test_labels):\n",
    "    \"\"\"\n",
    "    For evaluating the results of the model on the test set.\n",
    "    Args:\n",
    "        model: The compiled model defined before.\n",
    "        test_images, test_labels: Test data.\n",
    "    \"\"\"\n",
    "    Loss, Accuracy = model.evaluate(test_images, test_labels)\n",
    "    print(f'\\nTest accuracy: {Accuracy:.4f}')\n",
    "    print(f'\\nTest loss: {Loss:.4f}')"
   ]
  },
  {
   "cell_type": "code",
   "execution_count": 116,
   "id": "6430a5d2-708b-4ff7-a5c5-118acfb81ecf",
   "metadata": {},
   "outputs": [],
   "source": [
    "def plot_training_history(history):\n",
    "    \"\"\"\n",
    "    for plotting the training and validation accuracy/loss.\n",
    "    Args:\n",
    "        history: Training history returned by model.fit() executed on the training cell before this.\n",
    "    \"\"\"\n",
    "    # Plot for accuracy\n",
    "    plt.plot(history.history['accuracy'], label = 'Training Accuracy')\n",
    "    plt.plot(history.history['val_accuracy'], label = 'Validation Accuracy')\n",
    "    plt.xlabel('Epoch')\n",
    "    plt.ylabel('Accuracy')\n",
    "    plt.title('Training and Validation Accuracy')\n",
    "    plt.legend()\n",
    "\n",
    "    # Plot for loss\n",
    "    plt.plot(history.history['loss'], label = 'Training Loss')\n",
    "    plt.plot(history.history['val_loss'], label = 'Validation Loss')\n",
    "    plt.xlabel('Epoch')\n",
    "    plt.ylabel('Loss')\n",
    "    plt.title('Training and Validation Loss')\n",
    "    plt.legend()\n",
    "\n",
    "    plt.show()"
   ]
  },
  {
   "cell_type": "markdown",
   "id": "bcec11d9-dc49-41f4-945d-0df108fff24c",
   "metadata": {},
   "source": [
    "<font size=\"60\">THE MODEL IN USE BELOW</font>"
   ]
  },
  {
   "cell_type": "code",
   "execution_count": 117,
   "id": "cec03c12-d55b-4f45-bf6d-e5073e7bd557",
   "metadata": {},
   "outputs": [
    {
     "name": "stdout",
     "output_type": "stream",
     "text": [
      "(50000, 32, 32, 3) (50000, 10)\n"
     ]
    }
   ],
   "source": [
    "# Loading the CIFAR-10 dataset and preprocessing it\n",
    "(X_train, y_train), (X_test, y_test) = load_data()\n",
    "\n",
    "print(X_train.shape, y_train.shape)"
   ]
  },
  {
   "cell_type": "code",
   "execution_count": 118,
   "id": "9acd26e5-41e7-4c71-bc37-8870558dd01b",
   "metadata": {},
   "outputs": [
    {
     "data": {
      "text/html": [
       "<pre style=\"white-space:pre;overflow-x:auto;line-height:normal;font-family:Menlo,'DejaVu Sans Mono',consolas,'Courier New',monospace\"><span style=\"font-weight: bold\">Model: \"sequential_12\"</span>\n",
       "</pre>\n"
      ],
      "text/plain": [
       "\u001b[1mModel: \"sequential_12\"\u001b[0m\n"
      ]
     },
     "metadata": {},
     "output_type": "display_data"
    },
    {
     "data": {
      "text/html": [
       "<pre style=\"white-space:pre;overflow-x:auto;line-height:normal;font-family:Menlo,'DejaVu Sans Mono',consolas,'Courier New',monospace\">┏━━━━━━━━━━━━━━━━━━━━━━━━━━━━━━━━━━━━━━┳━━━━━━━━━━━━━━━━━━━━━━━━━━━━━┳━━━━━━━━━━━━━━━━━┓\n",
       "┃<span style=\"font-weight: bold\"> Layer (type)                         </span>┃<span style=\"font-weight: bold\"> Output Shape                </span>┃<span style=\"font-weight: bold\">         Param # </span>┃\n",
       "┡━━━━━━━━━━━━━━━━━━━━━━━━━━━━━━━━━━━━━━╇━━━━━━━━━━━━━━━━━━━━━━━━━━━━━╇━━━━━━━━━━━━━━━━━┩\n",
       "│ conv2d_48 (<span style=\"color: #0087ff; text-decoration-color: #0087ff\">Conv2D</span>)                   │ (<span style=\"color: #00d7ff; text-decoration-color: #00d7ff\">None</span>, <span style=\"color: #00af00; text-decoration-color: #00af00\">30</span>, <span style=\"color: #00af00; text-decoration-color: #00af00\">30</span>, <span style=\"color: #00af00; text-decoration-color: #00af00\">32</span>)          │             <span style=\"color: #00af00; text-decoration-color: #00af00\">896</span> │\n",
       "├──────────────────────────────────────┼─────────────────────────────┼─────────────────┤\n",
       "│ conv2d_49 (<span style=\"color: #0087ff; text-decoration-color: #0087ff\">Conv2D</span>)                   │ (<span style=\"color: #00d7ff; text-decoration-color: #00d7ff\">None</span>, <span style=\"color: #00af00; text-decoration-color: #00af00\">28</span>, <span style=\"color: #00af00; text-decoration-color: #00af00\">28</span>, <span style=\"color: #00af00; text-decoration-color: #00af00\">64</span>)          │          <span style=\"color: #00af00; text-decoration-color: #00af00\">18,496</span> │\n",
       "├──────────────────────────────────────┼─────────────────────────────┼─────────────────┤\n",
       "│ max_pooling2d_24 (<span style=\"color: #0087ff; text-decoration-color: #0087ff\">MaxPooling2D</span>)      │ (<span style=\"color: #00d7ff; text-decoration-color: #00d7ff\">None</span>, <span style=\"color: #00af00; text-decoration-color: #00af00\">14</span>, <span style=\"color: #00af00; text-decoration-color: #00af00\">14</span>, <span style=\"color: #00af00; text-decoration-color: #00af00\">64</span>)          │               <span style=\"color: #00af00; text-decoration-color: #00af00\">0</span> │\n",
       "├──────────────────────────────────────┼─────────────────────────────┼─────────────────┤\n",
       "│ conv2d_50 (<span style=\"color: #0087ff; text-decoration-color: #0087ff\">Conv2D</span>)                   │ (<span style=\"color: #00d7ff; text-decoration-color: #00d7ff\">None</span>, <span style=\"color: #00af00; text-decoration-color: #00af00\">12</span>, <span style=\"color: #00af00; text-decoration-color: #00af00\">12</span>, <span style=\"color: #00af00; text-decoration-color: #00af00\">128</span>)         │          <span style=\"color: #00af00; text-decoration-color: #00af00\">73,856</span> │\n",
       "├──────────────────────────────────────┼─────────────────────────────┼─────────────────┤\n",
       "│ max_pooling2d_25 (<span style=\"color: #0087ff; text-decoration-color: #0087ff\">MaxPooling2D</span>)      │ (<span style=\"color: #00d7ff; text-decoration-color: #00d7ff\">None</span>, <span style=\"color: #00af00; text-decoration-color: #00af00\">6</span>, <span style=\"color: #00af00; text-decoration-color: #00af00\">6</span>, <span style=\"color: #00af00; text-decoration-color: #00af00\">128</span>)           │               <span style=\"color: #00af00; text-decoration-color: #00af00\">0</span> │\n",
       "├──────────────────────────────────────┼─────────────────────────────┼─────────────────┤\n",
       "│ conv2d_51 (<span style=\"color: #0087ff; text-decoration-color: #0087ff\">Conv2D</span>)                   │ (<span style=\"color: #00d7ff; text-decoration-color: #00d7ff\">None</span>, <span style=\"color: #00af00; text-decoration-color: #00af00\">4</span>, <span style=\"color: #00af00; text-decoration-color: #00af00\">4</span>, <span style=\"color: #00af00; text-decoration-color: #00af00\">256</span>)           │         <span style=\"color: #00af00; text-decoration-color: #00af00\">295,168</span> │\n",
       "├──────────────────────────────────────┼─────────────────────────────┼─────────────────┤\n",
       "│ max_pooling2d_26 (<span style=\"color: #0087ff; text-decoration-color: #0087ff\">MaxPooling2D</span>)      │ (<span style=\"color: #00d7ff; text-decoration-color: #00d7ff\">None</span>, <span style=\"color: #00af00; text-decoration-color: #00af00\">2</span>, <span style=\"color: #00af00; text-decoration-color: #00af00\">2</span>, <span style=\"color: #00af00; text-decoration-color: #00af00\">256</span>)           │               <span style=\"color: #00af00; text-decoration-color: #00af00\">0</span> │\n",
       "├──────────────────────────────────────┼─────────────────────────────┼─────────────────┤\n",
       "│ flatten_12 (<span style=\"color: #0087ff; text-decoration-color: #0087ff\">Flatten</span>)                 │ (<span style=\"color: #00d7ff; text-decoration-color: #00d7ff\">None</span>, <span style=\"color: #00af00; text-decoration-color: #00af00\">1024</span>)                │               <span style=\"color: #00af00; text-decoration-color: #00af00\">0</span> │\n",
       "├──────────────────────────────────────┼─────────────────────────────┼─────────────────┤\n",
       "│ dense_24 (<span style=\"color: #0087ff; text-decoration-color: #0087ff\">Dense</span>)                     │ (<span style=\"color: #00d7ff; text-decoration-color: #00d7ff\">None</span>, <span style=\"color: #00af00; text-decoration-color: #00af00\">128</span>)                 │         <span style=\"color: #00af00; text-decoration-color: #00af00\">131,200</span> │\n",
       "├──────────────────────────────────────┼─────────────────────────────┼─────────────────┤\n",
       "│ dropout_36 (<span style=\"color: #0087ff; text-decoration-color: #0087ff\">Dropout</span>)                 │ (<span style=\"color: #00d7ff; text-decoration-color: #00d7ff\">None</span>, <span style=\"color: #00af00; text-decoration-color: #00af00\">128</span>)                 │               <span style=\"color: #00af00; text-decoration-color: #00af00\">0</span> │\n",
       "├──────────────────────────────────────┼─────────────────────────────┼─────────────────┤\n",
       "│ dense_25 (<span style=\"color: #0087ff; text-decoration-color: #0087ff\">Dense</span>)                     │ (<span style=\"color: #00d7ff; text-decoration-color: #00d7ff\">None</span>, <span style=\"color: #00af00; text-decoration-color: #00af00\">10</span>)                  │           <span style=\"color: #00af00; text-decoration-color: #00af00\">1,290</span> │\n",
       "└──────────────────────────────────────┴─────────────────────────────┴─────────────────┘\n",
       "</pre>\n"
      ],
      "text/plain": [
       "┏━━━━━━━━━━━━━━━━━━━━━━━━━━━━━━━━━━━━━━┳━━━━━━━━━━━━━━━━━━━━━━━━━━━━━┳━━━━━━━━━━━━━━━━━┓\n",
       "┃\u001b[1m \u001b[0m\u001b[1mLayer (type)                        \u001b[0m\u001b[1m \u001b[0m┃\u001b[1m \u001b[0m\u001b[1mOutput Shape               \u001b[0m\u001b[1m \u001b[0m┃\u001b[1m \u001b[0m\u001b[1m        Param #\u001b[0m\u001b[1m \u001b[0m┃\n",
       "┡━━━━━━━━━━━━━━━━━━━━━━━━━━━━━━━━━━━━━━╇━━━━━━━━━━━━━━━━━━━━━━━━━━━━━╇━━━━━━━━━━━━━━━━━┩\n",
       "│ conv2d_48 (\u001b[38;5;33mConv2D\u001b[0m)                   │ (\u001b[38;5;45mNone\u001b[0m, \u001b[38;5;34m30\u001b[0m, \u001b[38;5;34m30\u001b[0m, \u001b[38;5;34m32\u001b[0m)          │             \u001b[38;5;34m896\u001b[0m │\n",
       "├──────────────────────────────────────┼─────────────────────────────┼─────────────────┤\n",
       "│ conv2d_49 (\u001b[38;5;33mConv2D\u001b[0m)                   │ (\u001b[38;5;45mNone\u001b[0m, \u001b[38;5;34m28\u001b[0m, \u001b[38;5;34m28\u001b[0m, \u001b[38;5;34m64\u001b[0m)          │          \u001b[38;5;34m18,496\u001b[0m │\n",
       "├──────────────────────────────────────┼─────────────────────────────┼─────────────────┤\n",
       "│ max_pooling2d_24 (\u001b[38;5;33mMaxPooling2D\u001b[0m)      │ (\u001b[38;5;45mNone\u001b[0m, \u001b[38;5;34m14\u001b[0m, \u001b[38;5;34m14\u001b[0m, \u001b[38;5;34m64\u001b[0m)          │               \u001b[38;5;34m0\u001b[0m │\n",
       "├──────────────────────────────────────┼─────────────────────────────┼─────────────────┤\n",
       "│ conv2d_50 (\u001b[38;5;33mConv2D\u001b[0m)                   │ (\u001b[38;5;45mNone\u001b[0m, \u001b[38;5;34m12\u001b[0m, \u001b[38;5;34m12\u001b[0m, \u001b[38;5;34m128\u001b[0m)         │          \u001b[38;5;34m73,856\u001b[0m │\n",
       "├──────────────────────────────────────┼─────────────────────────────┼─────────────────┤\n",
       "│ max_pooling2d_25 (\u001b[38;5;33mMaxPooling2D\u001b[0m)      │ (\u001b[38;5;45mNone\u001b[0m, \u001b[38;5;34m6\u001b[0m, \u001b[38;5;34m6\u001b[0m, \u001b[38;5;34m128\u001b[0m)           │               \u001b[38;5;34m0\u001b[0m │\n",
       "├──────────────────────────────────────┼─────────────────────────────┼─────────────────┤\n",
       "│ conv2d_51 (\u001b[38;5;33mConv2D\u001b[0m)                   │ (\u001b[38;5;45mNone\u001b[0m, \u001b[38;5;34m4\u001b[0m, \u001b[38;5;34m4\u001b[0m, \u001b[38;5;34m256\u001b[0m)           │         \u001b[38;5;34m295,168\u001b[0m │\n",
       "├──────────────────────────────────────┼─────────────────────────────┼─────────────────┤\n",
       "│ max_pooling2d_26 (\u001b[38;5;33mMaxPooling2D\u001b[0m)      │ (\u001b[38;5;45mNone\u001b[0m, \u001b[38;5;34m2\u001b[0m, \u001b[38;5;34m2\u001b[0m, \u001b[38;5;34m256\u001b[0m)           │               \u001b[38;5;34m0\u001b[0m │\n",
       "├──────────────────────────────────────┼─────────────────────────────┼─────────────────┤\n",
       "│ flatten_12 (\u001b[38;5;33mFlatten\u001b[0m)                 │ (\u001b[38;5;45mNone\u001b[0m, \u001b[38;5;34m1024\u001b[0m)                │               \u001b[38;5;34m0\u001b[0m │\n",
       "├──────────────────────────────────────┼─────────────────────────────┼─────────────────┤\n",
       "│ dense_24 (\u001b[38;5;33mDense\u001b[0m)                     │ (\u001b[38;5;45mNone\u001b[0m, \u001b[38;5;34m128\u001b[0m)                 │         \u001b[38;5;34m131,200\u001b[0m │\n",
       "├──────────────────────────────────────┼─────────────────────────────┼─────────────────┤\n",
       "│ dropout_36 (\u001b[38;5;33mDropout\u001b[0m)                 │ (\u001b[38;5;45mNone\u001b[0m, \u001b[38;5;34m128\u001b[0m)                 │               \u001b[38;5;34m0\u001b[0m │\n",
       "├──────────────────────────────────────┼─────────────────────────────┼─────────────────┤\n",
       "│ dense_25 (\u001b[38;5;33mDense\u001b[0m)                     │ (\u001b[38;5;45mNone\u001b[0m, \u001b[38;5;34m10\u001b[0m)                  │           \u001b[38;5;34m1,290\u001b[0m │\n",
       "└──────────────────────────────────────┴─────────────────────────────┴─────────────────┘\n"
      ]
     },
     "metadata": {},
     "output_type": "display_data"
    },
    {
     "data": {
      "text/html": [
       "<pre style=\"white-space:pre;overflow-x:auto;line-height:normal;font-family:Menlo,'DejaVu Sans Mono',consolas,'Courier New',monospace\"><span style=\"font-weight: bold\"> Total params: </span><span style=\"color: #00af00; text-decoration-color: #00af00\">520,906</span> (1.99 MB)\n",
       "</pre>\n"
      ],
      "text/plain": [
       "\u001b[1m Total params: \u001b[0m\u001b[38;5;34m520,906\u001b[0m (1.99 MB)\n"
      ]
     },
     "metadata": {},
     "output_type": "display_data"
    },
    {
     "data": {
      "text/html": [
       "<pre style=\"white-space:pre;overflow-x:auto;line-height:normal;font-family:Menlo,'DejaVu Sans Mono',consolas,'Courier New',monospace\"><span style=\"font-weight: bold\"> Trainable params: </span><span style=\"color: #00af00; text-decoration-color: #00af00\">520,906</span> (1.99 MB)\n",
       "</pre>\n"
      ],
      "text/plain": [
       "\u001b[1m Trainable params: \u001b[0m\u001b[38;5;34m520,906\u001b[0m (1.99 MB)\n"
      ]
     },
     "metadata": {},
     "output_type": "display_data"
    },
    {
     "data": {
      "text/html": [
       "<pre style=\"white-space:pre;overflow-x:auto;line-height:normal;font-family:Menlo,'DejaVu Sans Mono',consolas,'Courier New',monospace\"><span style=\"font-weight: bold\"> Non-trainable params: </span><span style=\"color: #00af00; text-decoration-color: #00af00\">0</span> (0.00 B)\n",
       "</pre>\n"
      ],
      "text/plain": [
       "\u001b[1m Non-trainable params: \u001b[0m\u001b[38;5;34m0\u001b[0m (0.00 B)\n"
      ]
     },
     "metadata": {},
     "output_type": "display_data"
    }
   ],
   "source": [
    "# Building the model\n",
    "model = build_model()\n",
    "\n",
    "model.summary()"
   ]
  },
  {
   "cell_type": "code",
   "execution_count": 119,
   "id": "44b371ad-99e8-4ab9-ba5c-8aaf1b61222f",
   "metadata": {},
   "outputs": [
    {
     "name": "stdout",
     "output_type": "stream",
     "text": [
      "Epoch 1/50\n",
      "\u001b[1m781/781\u001b[0m \u001b[32m━━━━━━━━━━━━━━━━━━━━\u001b[0m\u001b[37m\u001b[0m \u001b[1m102s\u001b[0m 127ms/step - accuracy: 0.2123 - loss: 2.0803 - val_accuracy: 0.4313 - val_loss: 1.5487\n",
      "Epoch 2/50\n",
      "\u001b[1m781/781\u001b[0m \u001b[32m━━━━━━━━━━━━━━━━━━━━\u001b[0m\u001b[37m\u001b[0m \u001b[1m100s\u001b[0m 128ms/step - accuracy: 0.4072 - loss: 1.6179 - val_accuracy: 0.5175 - val_loss: 1.3336\n",
      "Epoch 3/50\n",
      "\u001b[1m781/781\u001b[0m \u001b[32m━━━━━━━━━━━━━━━━━━━━\u001b[0m\u001b[37m\u001b[0m \u001b[1m21s\u001b[0m 26ms/step - accuracy: 0.3750 - loss: 1.7720 - val_accuracy: 0.5164 - val_loss: 1.3227\n",
      "Epoch 4/50\n",
      "\u001b[1m781/781\u001b[0m \u001b[32m━━━━━━━━━━━━━━━━━━━━\u001b[0m\u001b[37m\u001b[0m \u001b[1m103s\u001b[0m 132ms/step - accuracy: 0.4888 - loss: 1.4224 - val_accuracy: 0.5345 - val_loss: 1.2871\n",
      "Epoch 5/50\n",
      "\u001b[1m781/781\u001b[0m \u001b[32m━━━━━━━━━━━━━━━━━━━━\u001b[0m\u001b[37m\u001b[0m \u001b[1m100s\u001b[0m 128ms/step - accuracy: 0.5315 - loss: 1.3116 - val_accuracy: 0.6133 - val_loss: 1.0874\n",
      "Epoch 6/50\n",
      "\u001b[1m781/781\u001b[0m \u001b[32m━━━━━━━━━━━━━━━━━━━━\u001b[0m\u001b[37m\u001b[0m \u001b[1m12s\u001b[0m 15ms/step - accuracy: 0.5312 - loss: 1.3183 - val_accuracy: 0.6137 - val_loss: 1.0875\n",
      "Epoch 7/50\n",
      "\u001b[1m781/781\u001b[0m \u001b[32m━━━━━━━━━━━━━━━━━━━━\u001b[0m\u001b[37m\u001b[0m \u001b[1m110s\u001b[0m 141ms/step - accuracy: 0.5688 - loss: 1.2230 - val_accuracy: 0.6125 - val_loss: 1.1332\n",
      "Epoch 8/50\n",
      "\u001b[1m781/781\u001b[0m \u001b[32m━━━━━━━━━━━━━━━━━━━━\u001b[0m\u001b[37m\u001b[0m \u001b[1m118s\u001b[0m 151ms/step - accuracy: 0.6009 - loss: 1.1436 - val_accuracy: 0.6640 - val_loss: 0.9342\n",
      "Epoch 9/50\n",
      "\u001b[1m781/781\u001b[0m \u001b[32m━━━━━━━━━━━━━━━━━━━━\u001b[0m\u001b[37m\u001b[0m \u001b[1m10s\u001b[0m 13ms/step - accuracy: 0.5625 - loss: 1.2466 - val_accuracy: 0.6683 - val_loss: 0.9297\n",
      "Epoch 10/50\n",
      "\u001b[1m781/781\u001b[0m \u001b[32m━━━━━━━━━━━━━━━━━━━━\u001b[0m\u001b[37m\u001b[0m \u001b[1m107s\u001b[0m 137ms/step - accuracy: 0.6146 - loss: 1.1148 - val_accuracy: 0.6749 - val_loss: 0.9569\n",
      "Epoch 11/50\n",
      "\u001b[1m781/781\u001b[0m \u001b[32m━━━━━━━━━━━━━━━━━━━━\u001b[0m\u001b[37m\u001b[0m \u001b[1m99s\u001b[0m 127ms/step - accuracy: 0.6361 - loss: 1.0561 - val_accuracy: 0.6727 - val_loss: 0.9528\n",
      "Epoch 12/50\n",
      "\u001b[1m781/781\u001b[0m \u001b[32m━━━━━━━━━━━━━━━━━━━━\u001b[0m\u001b[37m\u001b[0m \u001b[1m10s\u001b[0m 12ms/step - accuracy: 0.5000 - loss: 1.5432 - val_accuracy: 0.6705 - val_loss: 0.9584\n",
      "Epoch 13/50\n",
      "\u001b[1m781/781\u001b[0m \u001b[32m━━━━━━━━━━━━━━━━━━━━\u001b[0m\u001b[37m\u001b[0m \u001b[1m98s\u001b[0m 125ms/step - accuracy: 0.6443 - loss: 1.0239 - val_accuracy: 0.6996 - val_loss: 0.8647\n",
      "Epoch 14/50\n",
      "\u001b[1m781/781\u001b[0m \u001b[32m━━━━━━━━━━━━━━━━━━━━\u001b[0m\u001b[37m\u001b[0m \u001b[1m96s\u001b[0m 123ms/step - accuracy: 0.6582 - loss: 0.9863 - val_accuracy: 0.7160 - val_loss: 0.8151\n",
      "Epoch 15/50\n",
      "\u001b[1m781/781\u001b[0m \u001b[32m━━━━━━━━━━━━━━━━━━━━\u001b[0m\u001b[37m\u001b[0m \u001b[1m10s\u001b[0m 13ms/step - accuracy: 0.6250 - loss: 1.1253 - val_accuracy: 0.7175 - val_loss: 0.8078\n",
      "Epoch 16/50\n",
      "\u001b[1m781/781\u001b[0m \u001b[32m━━━━━━━━━━━━━━━━━━━━\u001b[0m\u001b[37m\u001b[0m \u001b[1m98s\u001b[0m 125ms/step - accuracy: 0.6690 - loss: 0.9554 - val_accuracy: 0.6852 - val_loss: 0.9306\n",
      "Epoch 17/50\n",
      "\u001b[1m781/781\u001b[0m \u001b[32m━━━━━━━━━━━━━━━━━━━━\u001b[0m\u001b[37m\u001b[0m \u001b[1m97s\u001b[0m 124ms/step - accuracy: 0.6701 - loss: 0.9476 - val_accuracy: 0.7214 - val_loss: 0.8307\n",
      "Epoch 18/50\n",
      "\u001b[1m781/781\u001b[0m \u001b[32m━━━━━━━━━━━━━━━━━━━━\u001b[0m\u001b[37m\u001b[0m \u001b[1m10s\u001b[0m 13ms/step - accuracy: 0.6875 - loss: 0.9522 - val_accuracy: 0.7186 - val_loss: 0.8347\n",
      "Epoch 19/50\n",
      "\u001b[1m781/781\u001b[0m \u001b[32m━━━━━━━━━━━━━━━━━━━━\u001b[0m\u001b[37m\u001b[0m \u001b[1m97s\u001b[0m 124ms/step - accuracy: 0.6836 - loss: 0.9188 - val_accuracy: 0.7214 - val_loss: 0.8304\n",
      "Epoch 20/50\n",
      "\u001b[1m781/781\u001b[0m \u001b[32m━━━━━━━━━━━━━━━━━━━━\u001b[0m\u001b[37m\u001b[0m \u001b[1m97s\u001b[0m 124ms/step - accuracy: 0.6931 - loss: 0.8914 - val_accuracy: 0.7341 - val_loss: 0.7896\n",
      "Epoch 21/50\n",
      "\u001b[1m781/781\u001b[0m \u001b[32m━━━━━━━━━━━━━━━━━━━━\u001b[0m\u001b[37m\u001b[0m \u001b[1m10s\u001b[0m 13ms/step - accuracy: 0.6875 - loss: 0.8385 - val_accuracy: 0.7312 - val_loss: 0.7983\n",
      "Epoch 22/50\n",
      "\u001b[1m781/781\u001b[0m \u001b[32m━━━━━━━━━━━━━━━━━━━━\u001b[0m\u001b[37m\u001b[0m \u001b[1m97s\u001b[0m 125ms/step - accuracy: 0.6970 - loss: 0.8928 - val_accuracy: 0.7310 - val_loss: 0.7913\n",
      "Epoch 23/50\n",
      "\u001b[1m781/781\u001b[0m \u001b[32m━━━━━━━━━━━━━━━━━━━━\u001b[0m\u001b[37m\u001b[0m \u001b[1m98s\u001b[0m 126ms/step - accuracy: 0.6956 - loss: 0.8942 - val_accuracy: 0.7355 - val_loss: 0.7898\n",
      "Epoch 24/50\n",
      "\u001b[1m781/781\u001b[0m \u001b[32m━━━━━━━━━━━━━━━━━━━━\u001b[0m\u001b[37m\u001b[0m \u001b[1m10s\u001b[0m 13ms/step - accuracy: 0.7812 - loss: 0.8941 - val_accuracy: 0.7366 - val_loss: 0.7906\n",
      "Epoch 25/50\n",
      "\u001b[1m781/781\u001b[0m \u001b[32m━━━━━━━━━━━━━━━━━━━━\u001b[0m\u001b[37m\u001b[0m \u001b[1m97s\u001b[0m 124ms/step - accuracy: 0.7133 - loss: 0.8520 - val_accuracy: 0.7359 - val_loss: 0.7772\n",
      "Epoch 26/50\n",
      "\u001b[1m781/781\u001b[0m \u001b[32m━━━━━━━━━━━━━━━━━━━━\u001b[0m\u001b[37m\u001b[0m \u001b[1m97s\u001b[0m 124ms/step - accuracy: 0.7201 - loss: 0.8339 - val_accuracy: 0.7492 - val_loss: 0.7331\n",
      "Epoch 27/50\n",
      "\u001b[1m781/781\u001b[0m \u001b[32m━━━━━━━━━━━━━━━━━━━━\u001b[0m\u001b[37m\u001b[0m \u001b[1m10s\u001b[0m 13ms/step - accuracy: 0.6875 - loss: 0.7729 - val_accuracy: 0.7447 - val_loss: 0.7431\n",
      "Epoch 28/50\n",
      "\u001b[1m781/781\u001b[0m \u001b[32m━━━━━━━━━━━━━━━━━━━━\u001b[0m\u001b[37m\u001b[0m \u001b[1m98s\u001b[0m 125ms/step - accuracy: 0.7058 - loss: 0.8488 - val_accuracy: 0.7465 - val_loss: 0.7508\n",
      "Epoch 29/50\n",
      "\u001b[1m781/781\u001b[0m \u001b[32m━━━━━━━━━━━━━━━━━━━━\u001b[0m\u001b[37m\u001b[0m \u001b[1m98s\u001b[0m 125ms/step - accuracy: 0.7218 - loss: 0.8222 - val_accuracy: 0.7540 - val_loss: 0.7488\n",
      "Epoch 30/50\n",
      "\u001b[1m781/781\u001b[0m \u001b[32m━━━━━━━━━━━━━━━━━━━━\u001b[0m\u001b[37m\u001b[0m \u001b[1m10s\u001b[0m 13ms/step - accuracy: 0.7500 - loss: 0.6739 - val_accuracy: 0.7531 - val_loss: 0.7492\n",
      "Epoch 31/50\n",
      "\u001b[1m781/781\u001b[0m \u001b[32m━━━━━━━━━━━━━━━━━━━━\u001b[0m\u001b[37m\u001b[0m \u001b[1m98s\u001b[0m 125ms/step - accuracy: 0.7216 - loss: 0.8139 - val_accuracy: 0.7239 - val_loss: 0.8483\n",
      "Epoch 32/50\n",
      "\u001b[1m781/781\u001b[0m \u001b[32m━━━━━━━━━━━━━━━━━━━━\u001b[0m\u001b[37m\u001b[0m \u001b[1m98s\u001b[0m 125ms/step - accuracy: 0.7225 - loss: 0.8117 - val_accuracy: 0.7608 - val_loss: 0.7239\n",
      "Epoch 33/50\n",
      "\u001b[1m781/781\u001b[0m \u001b[32m━━━━━━━━━━━━━━━━━━━━\u001b[0m\u001b[37m\u001b[0m \u001b[1m10s\u001b[0m 13ms/step - accuracy: 0.7188 - loss: 0.6236 - val_accuracy: 0.7620 - val_loss: 0.7239\n",
      "Epoch 34/50\n",
      "\u001b[1m781/781\u001b[0m \u001b[32m━━━━━━━━━━━━━━━━━━━━\u001b[0m\u001b[37m\u001b[0m \u001b[1m97s\u001b[0m 124ms/step - accuracy: 0.7254 - loss: 0.8019 - val_accuracy: 0.7622 - val_loss: 0.7003\n",
      "Epoch 35/50\n",
      "\u001b[1m781/781\u001b[0m \u001b[32m━━━━━━━━━━━━━━━━━━━━\u001b[0m\u001b[37m\u001b[0m \u001b[1m98s\u001b[0m 125ms/step - accuracy: 0.7385 - loss: 0.7784 - val_accuracy: 0.7621 - val_loss: 0.6947\n",
      "Epoch 36/50\n",
      "\u001b[1m781/781\u001b[0m \u001b[32m━━━━━━━━━━━━━━━━━━━━\u001b[0m\u001b[37m\u001b[0m \u001b[1m10s\u001b[0m 13ms/step - accuracy: 0.8438 - loss: 0.4849 - val_accuracy: 0.7671 - val_loss: 0.6848\n",
      "Epoch 37/50\n",
      "\u001b[1m781/781\u001b[0m \u001b[32m━━━━━━━━━━━━━━━━━━━━\u001b[0m\u001b[37m\u001b[0m \u001b[1m97s\u001b[0m 125ms/step - accuracy: 0.7342 - loss: 0.7877 - val_accuracy: 0.7612 - val_loss: 0.7184\n",
      "Epoch 38/50\n",
      "\u001b[1m781/781\u001b[0m \u001b[32m━━━━━━━━━━━━━━━━━━━━\u001b[0m\u001b[37m\u001b[0m \u001b[1m98s\u001b[0m 125ms/step - accuracy: 0.7368 - loss: 0.7795 - val_accuracy: 0.7565 - val_loss: 0.7256\n",
      "Epoch 39/50\n",
      "\u001b[1m781/781\u001b[0m \u001b[32m━━━━━━━━━━━━━━━━━━━━\u001b[0m\u001b[37m\u001b[0m \u001b[1m10s\u001b[0m 13ms/step - accuracy: 0.7500 - loss: 0.9006 - val_accuracy: 0.7590 - val_loss: 0.7174\n",
      "Epoch 40/50\n",
      "\u001b[1m781/781\u001b[0m \u001b[32m━━━━━━━━━━━━━━━━━━━━\u001b[0m\u001b[37m\u001b[0m \u001b[1m98s\u001b[0m 125ms/step - accuracy: 0.7415 - loss: 0.7585 - val_accuracy: 0.7492 - val_loss: 0.7668\n",
      "Epoch 41/50\n",
      "\u001b[1m781/781\u001b[0m \u001b[32m━━━━━━━━━━━━━━━━━━━━\u001b[0m\u001b[37m\u001b[0m \u001b[1m99s\u001b[0m 126ms/step - accuracy: 0.7380 - loss: 0.7771 - val_accuracy: 0.7655 - val_loss: 0.7061\n",
      "Epoch 42/50\n",
      "\u001b[1m781/781\u001b[0m \u001b[32m━━━━━━━━━━━━━━━━━━━━\u001b[0m\u001b[37m\u001b[0m \u001b[1m10s\u001b[0m 13ms/step - accuracy: 0.7500 - loss: 0.6695 - val_accuracy: 0.7643 - val_loss: 0.7096\n",
      "Epoch 43/50\n",
      "\u001b[1m781/781\u001b[0m \u001b[32m━━━━━━━━━━━━━━━━━━━━\u001b[0m\u001b[37m\u001b[0m \u001b[1m98s\u001b[0m 125ms/step - accuracy: 0.7404 - loss: 0.7625 - val_accuracy: 0.7620 - val_loss: 0.7403\n",
      "Epoch 44/50\n",
      "\u001b[1m781/781\u001b[0m \u001b[32m━━━━━━━━━━━━━━━━━━━━\u001b[0m\u001b[37m\u001b[0m \u001b[1m98s\u001b[0m 125ms/step - accuracy: 0.7408 - loss: 0.7657 - val_accuracy: 0.7772 - val_loss: 0.6647\n",
      "Epoch 45/50\n",
      "\u001b[1m781/781\u001b[0m \u001b[32m━━━━━━━━━━━━━━━━━━━━\u001b[0m\u001b[37m\u001b[0m \u001b[1m10s\u001b[0m 13ms/step - accuracy: 0.7500 - loss: 0.6318 - val_accuracy: 0.7784 - val_loss: 0.6615\n",
      "Epoch 46/50\n",
      "\u001b[1m781/781\u001b[0m \u001b[32m━━━━━━━━━━━━━━━━━━━━\u001b[0m\u001b[37m\u001b[0m \u001b[1m99s\u001b[0m 126ms/step - accuracy: 0.7431 - loss: 0.7738 - val_accuracy: 0.7682 - val_loss: 0.7063\n",
      "Epoch 47/50\n",
      "\u001b[1m781/781\u001b[0m \u001b[32m━━━━━━━━━━━━━━━━━━━━\u001b[0m\u001b[37m\u001b[0m \u001b[1m98s\u001b[0m 126ms/step - accuracy: 0.7489 - loss: 0.7387 - val_accuracy: 0.7735 - val_loss: 0.6994\n",
      "Epoch 48/50\n",
      "\u001b[1m781/781\u001b[0m \u001b[32m━━━━━━━━━━━━━━━━━━━━\u001b[0m\u001b[37m\u001b[0m \u001b[1m10s\u001b[0m 13ms/step - accuracy: 0.7500 - loss: 0.6641 - val_accuracy: 0.7721 - val_loss: 0.7025\n",
      "Epoch 49/50\n",
      "\u001b[1m781/781\u001b[0m \u001b[32m━━━━━━━━━━━━━━━━━━━━\u001b[0m\u001b[37m\u001b[0m \u001b[1m99s\u001b[0m 127ms/step - accuracy: 0.7461 - loss: 0.7345 - val_accuracy: 0.7717 - val_loss: 0.6926\n",
      "Epoch 50/50\n",
      "\u001b[1m781/781\u001b[0m \u001b[32m━━━━━━━━━━━━━━━━━━━━\u001b[0m\u001b[37m\u001b[0m \u001b[1m107s\u001b[0m 137ms/step - accuracy: 0.7525 - loss: 0.7252 - val_accuracy: 0.7615 - val_loss: 0.7466\n"
     ]
    }
   ],
   "source": [
    "# Training the model\n",
    "history = train_model(model, X_train, y_train, X_test, y_test, epochs = 50)"
   ]
  },
  {
   "cell_type": "code",
   "execution_count": 123,
   "id": "0b1fa2f3-8cc4-4ecd-b447-05e2d33aea9d",
   "metadata": {},
   "outputs": [
    {
     "name": "stdout",
     "output_type": "stream",
     "text": [
      "\u001b[1m313/313\u001b[0m \u001b[32m━━━━━━━━━━━━━━━━━━━━\u001b[0m\u001b[37m\u001b[0m \u001b[1m11s\u001b[0m 36ms/step - accuracy: 0.7644 - loss: 0.7251\n",
      "Test accuracy: 0.7615\n",
      "Test accuracy: 0.7466\n"
     ]
    }
   ],
   "source": [
    "# Evaluating the model\n",
    "Loss, Accuracy = model.evaluate(X_test, y_test)\n",
    "\n",
    "print(f'Test accuracy: {Accuracy:.4f}')\n",
    "print(f'Test accuracy: {Loss:.4f}')"
   ]
  },
  {
   "cell_type": "code",
   "execution_count": 125,
   "id": "69b48e23-08e4-4111-af76-3583df7d67d6",
   "metadata": {},
   "outputs": [
    {
     "data": {
      "image/png": "[encoded data removed]",
      "text/plain": [
       "<Figure size 640x480 with 1 Axes>"
      ]
     },
     "metadata": {},
     "output_type": "display_data"
    }
   ],
   "source": [
    "# Plotting training history\n",
    "plot_training_history(history)"
   ]
  },
  {
   "cell_type": "code",
   "execution_count": 127,
   "id": "0a7c74b6-7af7-4c10-9b92-7bc3749038d0",
   "metadata": {},
   "outputs": [
    {
     "name": "stderr",
     "output_type": "stream",
     "text": [
      "WARNING:absl:You are saving your model as an HDF5 file via `model.save()` or `keras.saving.save_model(model)`. This file format is considered legacy. We recommend using instead the native Keras format, e.g. `model.save('my_model.keras')` or `keras.saving.save_model(model, 'my_model.keras')`. \n"
     ]
    }
   ],
   "source": [
    "model.save('cifar10_model.h5')"
   ]
  },
  {
   "cell_type": "markdown",
   "id": "a8517c30-4ee5-4de3-a564-a09b84d3638b",
   "metadata": {},
   "source": [
    "<font size = \"15\">UPLOADING IMAGES OF MY OWN AND PREDICTING THEM VIA THE SAVED MODEL (for GIT)</font>"
   ]
  },
  {
   "cell_type": "code",
   "execution_count": 155,
   "id": "2898981d-2db2-4ea1-8c72-acc189b7180a",
   "metadata": {},
   "outputs": [],
   "source": [
    "# Class names for CIFAR-10\n",
    "CLASS_NAMES = [\n",
    "    'airplane', 'automobile', 'bird', 'cat', 'deer',\n",
    "    'dog', 'frog', 'horse', 'ship', 'truck'\n",
    "]"
   ]
  },
  {
   "cell_type": "code",
   "execution_count": 156,
   "id": "2c3becee-8a26-4619-a3a4-414836769f1b",
   "metadata": {},
   "outputs": [],
   "source": [
    "def load_image(image_path):\n",
    "    \"\"\"\n",
    "    Load and preprocess an image from a file path.\n",
    "    Args:\n",
    "        image_path: Path to the input image file.\n",
    "    Returns:\n",
    "        Preprocessed image as a NumPy array.\n",
    "    \"\"\"\n",
    "    # Load the image using PIL\n",
    "    image = Image.open(image_path)\n",
    "\n",
    "    # Convert the image to RGB (remove alpha channel if present)\n",
    "    image = image.convert('RGB')\n",
    "\n",
    "    # Resize the image to 32x32 (CIFAR-10 input size)\n",
    "    image = image.resize((32, 32))\n",
    "\n",
    "    # Convert the image to a NumPy array\n",
    "    image = np.array(image)\n",
    "\n",
    "    # Normalize pixel values to [0, 1]\n",
    "    image = image / 255.0\n",
    "\n",
    "    return image"
   ]
  },
  {
   "cell_type": "code",
   "execution_count": 157,
   "id": "72ef0313-626f-4e1c-aaa4-66b8b1dad959",
   "metadata": {},
   "outputs": [],
   "source": [
    "def load_model():\n",
    "    \"\"\"\n",
    "    Load the saved model.\n",
    "    Returns:\n",
    "        Loaded model.\n",
    "    \"\"\"\n",
    "    model = tf.keras.models.load_model('cifar10_model.h5')\n",
    "    return model"
   ]
  },
  {
   "cell_type": "code",
   "execution_count": 160,
   "id": "bdda6a8f-016e-4242-81ef-f686277b9557",
   "metadata": {},
   "outputs": [],
   "source": [
    "def predict(image):\n",
    "    \"\"\"\n",
    "    Makes a prediction for an input image using the trained/loaded model.\n",
    "    Args:\n",
    "        image: Input image as a numpy array.\n",
    "    Returns:\n",
    "        Predicted class label and confidence score.\n",
    "    \"\"\"\n",
    "    # Adds batch dimension (model expects input shape [batch_size, 32, 32, 3])\n",
    "    image = np.expand_dims(image, axis=0)\n",
    "\n",
    "    # Makes the prediction\n",
    "    predictions = model.predict(image)\n",
    "\n",
    "    # For the predicted class label and confidence score\n",
    "    predicted_class = np.argmax(predictions, axis=1)[0]\n",
    "    confidence_score = np.max(predictions)\n",
    "    return predicted_class, confidence_score"
   ]
  },
  {
   "cell_type": "markdown",
   "id": "7ad8bd4e-072f-4952-89d0-e07bc1352495",
   "metadata": {},
   "source": [
    "<font size = '15'>EXECUTING THE PREDICTION SCRIPT<font>"
   ]
  },
  {
   "cell_type": "code",
   "execution_count": 161,
   "id": "63b072b1-ef4e-4daa-a173-e369adff227a",
   "metadata": {},
   "outputs": [
    {
     "name": "stderr",
     "output_type": "stream",
     "text": [
      "WARNING:absl:Compiled the loaded model, but the compiled metrics have yet to be built. `model.compile_metrics` will be empty until you train or evaluate the model.\n"
     ]
    },
    {
     "name": "stdout",
     "output_type": "stream",
     "text": [
      "\u001b[1m1/1\u001b[0m \u001b[32m━━━━━━━━━━━━━━━━━━━━\u001b[0m\u001b[37m\u001b[0m \u001b[1m0s\u001b[0m 189ms/step\n",
      "Predicted class: cat\n",
      "Confidence score: 0.5937\n"
     ]
    }
   ],
   "source": [
    "model = load_model()\n",
    "\n",
    "image_path = 'C:\\\\Users\\\\Sumer Singh\\\\Documents\\\\cat.jpg' \n",
    "image = load_image(image_path) \n",
    "\n",
    "predicted_class, confidence_score = predict(image)\n",
    "\n",
    "print(f'Predicted class: {CLASS_NAMES[predicted_class]}')\n",
    "print(f'Confidence score: {confidence_score:.4f}')"
   ]
  },
  {
   "cell_type": "code",
   "execution_count": 162,
   "id": "632b74ac-7947-42c2-b317-f50b825ce336",
   "metadata": {},
   "outputs": [
    {
     "name": "stderr",
     "output_type": "stream",
     "text": [
      "WARNING:absl:Compiled the loaded model, but the compiled metrics have yet to be built. `model.compile_metrics` will be empty until you train or evaluate the model.\n"
     ]
    },
    {
     "name": "stdout",
     "output_type": "stream",
     "text": [
      "\u001b[1m1/1\u001b[0m \u001b[32m━━━━━━━━━━━━━━━━━━━━\u001b[0m\u001b[37m\u001b[0m \u001b[1m0s\u001b[0m 207ms/step\n",
      "Predicted class: airplane\n",
      "Confidence score: 0.9175\n"
     ]
    }
   ],
   "source": [
    "model = load_model()\n",
    "image_path = 'C:\\\\Users\\\\Sumer Singh\\\\Documents\\\\plane.jpg' \n",
    "image = load_image(image_path)\n",
    "\n",
    "predicted_class, confidence_score = predict(image)\n",
    "\n",
    "print(f'Predicted class: {CLASS_NAMES[predicted_class]}')\n",
    "print(f'Confidence score: {confidence_score:.4f}')"
   ]
  },
  {
   "cell_type": "code",
   "execution_count": null,
   "id": "194c4772-5460-4af1-a4a8-8a976e54fad4",
   "metadata": {},
   "outputs": [],
   "source": []
  }
 ],
 "metadata": {
  "kernelspec": {
   "display_name": "Python 3 (ipykernel)",
   "language": "python",
   "name": "python3"
  },
  "language_info": {
   "codemirror_mode": {
    "name": "ipython",
    "version": 3
   },
   "file_extension": ".py",
   "mimetype": "text/x-python",
   "name": "python",
   "nbconvert_exporter": "python",
   "pygments_lexer": "ipython3",
   "version": "3.10.11"
  }
 },
 "nbformat": 4,
 "nbformat_minor": 5
}
